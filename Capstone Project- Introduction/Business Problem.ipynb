{
    "cells": [
        {
            "cell_type": "markdown",
            "metadata": {
                "collapsed": true
            },
            "source": "# Capstone Project- Week 4 Assignment"
        },
        {
            "cell_type": "markdown",
            "metadata": {},
            "source": "**Introduction/Business Problem**"
        },
        {
            "cell_type": "markdown",
            "metadata": {},
            "source": "* **Introduction** - For millions of people, restaurants, whether fast food or fine dining, are part of their every day personal and professional lives. Restaurants provide the perfect backdrop for birthday celebrations, rehearsal dinners, catching up with friends and loved ones, or business meetings with potential clients. There is a restaurant for every occasion, which provides a unique and welcoming atmosphere. According to statista.com, \" The restaurant industry in the United States has seen healthy growth over the past few decades. As a leading contributor to the global restaurant market, the U.S. restaurant industry's food and drink sales have more than doubled since 2000, reaching an all-time high of approximately 800 billion U.S. dollars in 2017.\""
        },
        {
            "cell_type": "markdown",
            "metadata": {},
            "source": "* **Business Problem** - This report will focus on if an indivdual is looking to open a restaurant in Atlanta, Georgia, what location and type of restaurant will be best in order to provide long term sustainabiity and maximize profits. This will be done by using data science methodology and techniques such as web scraping and clustering in order to highlight desired neighborhood locatons and help determine what type of cuisine would be ideal."
        },
        {
            "cell_type": "markdown",
            "metadata": {},
            "source": "**Data**\n\n* In order to research this further, we will use the following data to assit with our analysis in order to create maps and clustering models.\n  1. Neighborhood information for Atlanta, Georgia \n  2. Restaurant information for Atlanta, Georgia\n  3. Additional demographic information regarding residents\n"
        },
        {
            "cell_type": "markdown",
            "metadata": {},
            "source": "In order to collect neighborhood data, the following will be used https://en.wikipedia.org/wiki/Neighborhoods_in_Atlanta.\nA quick review shows:\n\n>_\"Atlanta is made up of 243 neighborhoods, which are a mix of traditional neighborhoods, subdivisions, or groups of subdivisions. The neighborhoods are grouped by the city planning department into 25 neighborhood planning units. There are also a variety of other widely recognized named areas within the city; some are officially designated, while others are more informal. In addition to the officially designated neighborhoods, several larger areas, consisting of multiple neighborhoods, are not formally defined but commonly used. Most notable are Buckhead, Midtown, and Downtown. However, other smaller examples exist, such as Little Five Points, which encompasses parts of three neighborhoods. Some of these regions may overlap, such as West Midtown, an area which includes several neighborhoods on the west side of the larger Midtown area.\"_\n>><cite>Wikipedia.org, Neighborhoods in Atlanta<cite>\n\nFoursquare API will be used to collect restaurant information regarding select neighborhood locations."
        },
        {
            "cell_type": "code",
            "execution_count": null,
            "metadata": {},
            "outputs": [],
            "source": ""
        }
    ],
    "metadata": {
        "kernelspec": {
            "display_name": "Python 3.7",
            "language": "python",
            "name": "python3"
        },
        "language_info": {
            "codemirror_mode": {
                "name": "ipython",
                "version": 3
            },
            "file_extension": ".py",
            "mimetype": "text/x-python",
            "name": "python",
            "nbconvert_exporter": "python",
            "pygments_lexer": "ipython3",
            "version": "3.7.9"
        }
    },
    "nbformat": 4,
    "nbformat_minor": 1
}