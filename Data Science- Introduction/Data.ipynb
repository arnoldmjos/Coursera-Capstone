{
    "cells": [
        {
            "metadata": {
                "collapsed": true
            },
            "cell_type": "markdown",
            "source": "# Capstone Project- Week 4 Assignment"
        },
        {
            "metadata": {},
            "cell_type": "markdown",
            "source": "### **Introduction/Business Problem**"
        },
        {
            "metadata": {},
            "cell_type": "markdown",
            "source": "* **Introduction** - For millions of people, restaurants, whether fast food or fine dining, are part of their every day personal and professional lives. Restaurants provide the perfect backdrop for birthday celebrations, rehearsal dinners, catching up with friends and loved ones, or business meetings with potential clients. There is a restaurant for every occasion, which provides a unique and welcoming atmosphere. According to statista.com, \" The restaurant industry in the United States has seen healthy growth over the past few decades. As a leading contributor to the global restaurant market, the U.S. restaurant industry's food and drink sales have more than doubled since 2000, reaching an all-time high of approximately 800 billion U.S. dollars in 2017.\" It is no wonder so many people have decided to break into the restaurance industry in order to work for themselves!"
        },
        {
            "metadata": {},
            "cell_type": "markdown",
            "source": "* **Business Problem** - This report will focus on if an indivdual is looking to open a restaurant in Toronto, Canada, what location and type of restaurant will be best in order to provide long term sustainabiity and maximize profits. This will be done by using data science methodology and techniques such as web scraping and clustering in order to highlight desired neighborhood locatons and help determine what type of cuisine would be ideal."
        },
        {
            "metadata": {},
            "cell_type": "markdown",
            "source": "### **Target Audience**"
        },
        {
            "metadata": {},
            "cell_type": "code",
            "source": "* **Target audience is any individual or company looking to open a restaurant in Toronto, Canada.",
            "execution_count": 2,
            "outputs": [
                {
                    "output_type": "error",
                    "ename": "SyntaxError",
                    "evalue": "invalid syntax (<ipython-input-2-8850905c27b6>, line 1)",
                    "traceback": [
                        "\u001b[0;36m  File \u001b[0;32m\"<ipython-input-2-8850905c27b6>\"\u001b[0;36m, line \u001b[0;32m1\u001b[0m\n\u001b[0;31m    * **Target audience is any individual or company looking to open a restaurant in Toronto, Canada.**\u001b[0m\n\u001b[0m       ^\u001b[0m\n\u001b[0;31mSyntaxError\u001b[0m\u001b[0;31m:\u001b[0m invalid syntax\n"
                    ]
                }
            ]
        },
        {
            "metadata": {},
            "cell_type": "code",
            "source": "",
            "execution_count": null,
            "outputs": []
        }
    ],
    "metadata": {
        "kernelspec": {
            "name": "python3",
            "display_name": "Python 3.7",
            "language": "python"
        },
        "language_info": {
            "name": "python",
            "version": "3.7.9",
            "mimetype": "text/x-python",
            "codemirror_mode": {
                "name": "ipython",
                "version": 3
            },
            "pygments_lexer": "ipython3",
            "nbconvert_exporter": "python",
            "file_extension": ".py"
        }
    },
    "nbformat": 4,
    "nbformat_minor": 1
}